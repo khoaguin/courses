{
 "cells": [
  {
   "cell_type": "markdown",
   "metadata": {},
   "source": [
    "# Beaver Triples\n",
    "\n",
    "Author: \n",
    "- Carlos Salgado - [email](mailto:csalgado@uwo.ca) - [linkedin](https://www.linkedin.com/in/eng-socd/) - [github](https://github.com/socd06)  $\\newcommand{\\shared}[1]{[\\![ #1 ]\\!]}$  \n",
    "\n",
    "## Definition\n",
    "\n",
    "Beaver triples are [tuples](https://en.wikipedia.org/wiki/Tuple) of three values such that `a` and `b` are random uniform values and\n",
    "\n",
    "$ c = ab $\n",
    "\n",
    "Beaver triples are named after Donald Beaver, the author of the [paper](https://link.springer.com/chapter/10.1007/3-540-46766-1_34) where the technique was introduced."
   ]
  },
  {
   "cell_type": "markdown",
   "metadata": {},
   "source": [
    "## Geometric explanation\n",
    "\n",
    "Beaver triples are applied in **private multiplication** where we want to compute $ \\text{shared}\\{z\\} = \\text{shared}\\{xy\\} $ and both $\\text{shared}\\{x\\}$ and $\\text{shared}\\{y\\}$ are shared values. This is also known as preprocessed material and is used to compute the multiplication as shown in the geometric explanation below.\n",
    "\n"
   ]
  },
  {
   "cell_type": "markdown",
   "metadata": {},
   "source": [
    "![Beaver Triples Trick](img/beaver-triples-trick.jpg)"
   ]
  },
  {
   "cell_type": "markdown",
   "metadata": {},
   "source": [
    "### Private multiplication\n",
    "This has been implemented in different ways depending on the author and purpose of the protocol, we present a simplified overview of the process in favour of learning:\n",
    "#### Precomputation\n",
    "First-off, in the precomputation phase:\n",
    "- a crypto provider (or trusted third party) computes a Beaver multiplication triple $ (a, b, c) $, such that `a` and `b` are random and $ c = ab $ and then\n",
    "- It secret shares the triple with the party\n",
    "\n",
    "#### Online Phase\n",
    "Assumming all parties have a secret share of a multiplicatiion Beaver triple $\\text{shared}\\{a\\}, \\text{shared}\\{b\\}, \\text{shared}\\{c\\}$. The process is as follows:\n",
    "\n",
    "- Each party computes $ \\text{shared}\\{x-a\\} $ and publishes their share of $ x - a $, revealing (reconstructing) $ \\delta = x - a $ \n",
    "\n",
    "\n",
    "- Each party computes $ \\text{shared}\\{y-b\\} $ and publishes their share of $ y - b $, revealing (reconstructing) $ \\epsilon = y - b $ \n",
    "\n",
    "\n",
    "- All parties compute $ z_i = c_i + a_i(y - b) + b_i(x - a) $, adding their shares\n",
    "\n",
    "or, simplified\n",
    "- $ z_i =  c_i + a_i \\epsilon + \\delta b_i  $\n",
    "\n",
    "\n",
    "- Finally, an arbitrary party adds $ (x - a)(y - b) $ or $ \\delta \\epsilon $ for short, to the computation, revealing $ z = xy $\n",
    "\n",
    "\n",
    "**Note:** Values inside this type of square brackets $\\text{shared}\\{ \\}$ are secret shares."
   ]
  },
  {
   "cell_type": "markdown",
   "metadata": {},
   "source": [
    "### [Quiz] Compute the expected z<sub>alice</sub> and z<sub>bob</sub> shares of a private multiplication"
   ]
  },
  {
   "cell_type": "markdown",
   "metadata": {},
   "source": [
    "Let our inputs be \n",
    "\n",
    "$ x = 6 $ and $ y = 4 $\n",
    "\n",
    "and we consume the following triples:\n",
    "\n",
    "$( a, \\;b,\\; c ) = ( 12, \\; 26, \\; 312 )$\n",
    "\n",
    "Then let our inputs and triples be secret shared between `Alice` and `Bob`. Therefore, \n",
    "\n",
    "- `Alice` holds:\n",
    "\n",
    "$ x_{alice} = 2, \\; y_{alice}= -5 $\n",
    "\n",
    "$ a_{alice} = 15, \\; b_{alice} = -20, \\; c_{alice} = 117  $\n",
    "\n",
    "- and `Bob` holds:\n",
    "\n",
    "$ x_{bob} = 4, \\; y_{bob}= 9 $\n",
    "\n",
    "$ a_{bob} = -3, \\; b_{bob} = 46, \\; c_{bob} = 195 $\n",
    "\n",
    "\n",
    "|                       |Alice                   | | | | | |                     |Bob                  | |\n",
    "|:----------------------|:----------------------:|-|-|-|-|-|:--------------------|:-------------------:|-|\n",
    "|x<sub>alice</sub> = 2  |a<sub>alice</sub> = 15  | | | | | |x<sub>bob</sub> = 4  |a<sub>bob</sub> = -3 | |\n",
    "|y<sub>alice</sub> = -5 |b<sub>alice</sub> = -20 | | | | | |y<sub>bob</sub> = 9 |b<sub>bob</sub> = 46 | |\n",
    "|                       |c<sub>alice</sub> = 117 | | | | | |                     |c<sub>bob</sub> = 195| |\n",
    "\n",
    "\n",
    "Compute the expected $z_{alice} $ and $ z_{bob} $ shares assuming Bob adds $ \\delta \\epsilon $. \n",
    "\n",
    "Fill the ____ spaces below with your answers. Feel free to implement the equation in a new cell or use whatever tool you'd like (e.g. a calculator), it's your call. "
   ]
  },
  {
   "cell_type": "code",
   "execution_count": 1,
   "metadata": {},
   "outputs": [],
   "source": [
    "# Run this cell to import the quizzes\n",
    "from quiz import q3, q4"
   ]
  },
  {
   "cell_type": "markdown",
   "metadata": {},
   "source": [
    "$ z_i = c_i + a_i(y - b) + b_i(x - a) $"
   ]
  },
  {
   "cell_type": "code",
   "execution_count": 8,
   "metadata": {},
   "outputs": [
    {
     "name": "stdout",
     "output_type": "stream",
     "text": [
      "z_alice=-93\n",
      "\u001b[1;32mSuccess: \u001b[0mExcellent!\n"
     ]
    },
    {
     "data": {
      "text/plain": [
       "True"
      ]
     },
     "execution_count": 8,
     "metadata": {},
     "output_type": "execute_result"
    }
   ],
   "source": [
    "# Fill the ____ space below with your answer\n",
    "z_alice = 117 + 15*(4-26) + -20*(6-12)\n",
    "print(f\"z_alice={z_alice}\")\n",
    "\n",
    "# run to check your answer\n",
    "q3.check(z_alice)"
   ]
  },
  {
   "cell_type": "code",
   "execution_count": 3,
   "metadata": {},
   "outputs": [
    {
     "name": "stdout",
     "output_type": "stream",
     "text": [
      "\u001b[1;33mHint: \u001b[0mReconstruct x - a and y - b by adding the Alice and Bob's [x-a] and [y-b]\n"
     ]
    }
   ],
   "source": [
    "# Uncomment the line below to see a hint\n",
    "q3.hint"
   ]
  },
  {
   "cell_type": "code",
   "execution_count": 4,
   "metadata": {},
   "outputs": [
    {
     "name": "stdout",
     "output_type": "stream",
     "text": [
      "\u001b[1;34mSolution: \u001b[0mz_alice = -93\n"
     ]
    }
   ],
   "source": [
    "# Uncomment the line below to see the solution\n",
    "q3.solution"
   ]
  },
  {
   "cell_type": "code",
   "execution_count": 11,
   "metadata": {},
   "outputs": [
    {
     "name": "stdout",
     "output_type": "stream",
     "text": [
      "\u001b[1;32mSuccess: \u001b[0mCorrect! Bob's share is -15 + (6)(22) = 117\n"
     ]
    },
    {
     "data": {
      "text/plain": [
       "True"
      ]
     },
     "execution_count": 11,
     "metadata": {},
     "output_type": "execute_result"
    }
   ],
   "source": [
    "# Fill the ____ space below with your answer\n",
    "z_bob = 195 + -3*(4-26) + 46*(6-12) + (4-26)*(6-12)\n",
    "\n",
    "# run to check your answer\n",
    "q4.check(z_bob)"
   ]
  },
  {
   "cell_type": "code",
   "execution_count": 10,
   "metadata": {},
   "outputs": [
    {
     "name": "stdout",
     "output_type": "stream",
     "text": [
      "\u001b[1;33mHint: \u001b[0mRemember Bob adds (x-a)(x-b) to his share. z_bob = c_bob + (a_bob)(y-b) + (b_bob)(x-a) + (x-a)(y-b) \n"
     ]
    }
   ],
   "source": [
    "# Uncomment the line below to see a hint\n",
    "q4.hint"
   ]
  },
  {
   "cell_type": "code",
   "execution_count": 12,
   "metadata": {},
   "outputs": [
    {
     "name": "stdout",
     "output_type": "stream",
     "text": [
      "\u001b[1;34mSolution: \u001b[0mz_bob = 117\n"
     ]
    }
   ],
   "source": [
    "# Uncomment the line below to see the solution\n",
    "q4.solution"
   ]
  },
  {
   "cell_type": "markdown",
   "metadata": {},
   "source": [
    "Check:"
   ]
  },
  {
   "cell_type": "code",
   "execution_count": 41,
   "metadata": {},
   "outputs": [
    {
     "data": {
      "text/plain": [
       "True"
      ]
     },
     "execution_count": 41,
     "metadata": {},
     "output_type": "execute_result"
    }
   ],
   "source": [
    "z_bob + z_alice == 6*4"
   ]
  },
  {
   "cell_type": "markdown",
   "metadata": {},
   "source": [
    "## Implement Private multiplication with Beaver Triples\n",
    "Now that you are aware of the theory, why don't you try implementing private multiplication from scratch? "
   ]
  },
  {
   "cell_type": "code",
   "execution_count": 32,
   "metadata": {},
   "outputs": [],
   "source": [
    "import sympy\n",
    "import secrets \n",
    "from random import randint\n",
    "\n",
    "\n",
    "def get_input():\n",
    "    \"\"\"\n",
    "    Get inputs x and y from user. We want to privately compute x and y\n",
    "    \"\"\"\n",
    "    print(\"Please enter x and y\")\n",
    "    x = int(input(\"Alice's input is: \"))\n",
    "    print(f\"x's input is: {x}\")\n",
    "    y = int(input(\"Bob's input is: \"))\n",
    "    print(f\"y's input is: {y}\")\n",
    "    return (x, y)\n",
    "\n",
    "\n",
    "def beaver_triplets(r):\n",
    "    \"\"\"\n",
    "    Generate the triples (a,b,c) where c=a*b\n",
    "    r: the prime number\n",
    "    \"\"\"\n",
    "    a = randint(0, r)\n",
    "    b = randint(0, r)\n",
    "    c = a*b\n",
    "    print(f\"The triplet is (a,b,c) = ({a}, {b}, {c})\")\n",
    "    return (a, b, c)\n",
    "\n",
    "\n",
    "def pick_random_prime():\n",
    "    # An arbitrary constant, feel free to play with it\n",
    "    CONST = 999\n",
    "    BIT_DEPTH = 31\n",
    "    # Range start\n",
    "    start = 2**BIT_DEPTH-CONST\n",
    "    # Maximum in Z2**32 ring\n",
    "    end = 2**BIT_DEPTH\n",
    "    prime_lst = list(sympy.primerange(start,end+1))\n",
    "    r = secrets.choice(prime_lst)\n",
    "    print(f\"The random prime is: {r}\")\n",
    "    return r\n",
    "\n",
    "\n",
    "def dual_share(s, r):\n",
    "    \"\"\"\n",
    "    Additive secret sharing the input s\n",
    "    s = secret\n",
    "    r = randomness\n",
    "    \"\"\"\n",
    "    share_lst = list()\n",
    "    share_lst.append(randint(0,r))\n",
    "    final_share = r - (share_lst[0] % r) + s\n",
    "    share_lst.append(final_share)\n",
    "    print(f\"the shares of {s} is {share_lst}\")\n",
    "    return share_lst\n",
    "\n",
    "\n",
    "def decrypt_dual_share(shares, r):\n",
    "    return sum(shares) % r\n"
   ]
  },
  {
   "cell_type": "code",
   "execution_count": 29,
   "metadata": {},
   "outputs": [
    {
     "name": "stdout",
     "output_type": "stream",
     "text": [
      "The random prime is: 2147483587\n",
      "Please enter x and y\n",
      "x's input is: 10\n",
      "y's input is: 20\n"
     ]
    }
   ],
   "source": [
    "r = pick_random_prime()\n",
    "(x, y) = get_input()"
   ]
  },
  {
   "cell_type": "code",
   "execution_count": 33,
   "metadata": {},
   "outputs": [
    {
     "name": "stdout",
     "output_type": "stream",
     "text": [
      "The triplet is (a,b,c) = (502754305, 1931526765, 971083396326473325)\n",
      "the shares of 10 is [895627153, 1251856444]\n",
      "the shares of 20 is [252914863, 1894568744]\n",
      "the shares of 502754305 is [1540383048, 1109854844]\n",
      "the shares of 1931526765 is [33939935, 4045070417]\n",
      "the shares of 971083396326473325 is [1295799770, 971083397178157142]\n"
     ]
    }
   ],
   "source": [
    "(a,b,c) = beaver_triplets(r)\n",
    "(x1, x2) = dual_share(x, r)\n",
    "(y1, y2) = dual_share(y, r)\n",
    "(a1, a2) = dual_share(a, r)\n",
    "(b1, b2) = dual_share(b, r)\n",
    "(c1, c2) = dual_share(c, r)\n"
   ]
  },
  {
   "cell_type": "markdown",
   "metadata": {},
   "source": [
    "Public values"
   ]
  },
  {
   "cell_type": "code",
   "execution_count": 70,
   "metadata": {},
   "outputs": [],
   "source": [
    "theta1 = x1-a1\n",
    "epsilon1 = (y1-b1)\n",
    "theta2 = (x2-a2)\n",
    "epsilon2 = (y2-b2)\n",
    "theta = theta1+theta2\n",
    "epsilon = epsilon1+epsilon2"
   ]
  },
  {
   "cell_type": "markdown",
   "metadata": {},
   "source": [
    "Calculate the values $z_i$, and finally $z$"
   ]
  },
  {
   "cell_type": "code",
   "execution_count": 87,
   "metadata": {},
   "outputs": [],
   "source": [
    "def calculate_zi(c_i, a_i, b_i, theta, epsilon, last_party):\n",
    "    zi = (c_i + b_i*theta + a_i*epsilon)\n",
    "    if last_party:\n",
    "        zi = c_i + b_i*theta + a_i*epsilon + theta*epsilon\n",
    "\n",
    "    print(f\"the value of z_i is {zi}\")\n",
    "    return zi\n",
    "\n",
    "\n",
    "def calculate_z(z1, z2, r):\n",
    "    z = (z1+z2)%r\n",
    "    print(f\"final value z is: {z}\")\n",
    "    return z"
   ]
  },
  {
   "cell_type": "markdown",
   "metadata": {},
   "source": [
    "Calculate $z_{alice}$ and $z_{bob}$"
   ]
  },
  {
   "cell_type": "code",
   "execution_count": 89,
   "metadata": {},
   "outputs": [
    {
     "name": "stdout",
     "output_type": "stream",
     "text": [
      "the value of z_i is -90010145195142749\n",
      "the value of z_i is -9748990706784580064\n"
     ]
    }
   ],
   "source": [
    "z1 = calculate_zi(c1, a1, b1, theta, epsilon, False)\n",
    "z2 = calculate_zi(c2, a2, b2, theta, epsilon, True)"
   ]
  },
  {
   "cell_type": "code",
   "execution_count": 90,
   "metadata": {},
   "outputs": [
    {
     "name": "stdout",
     "output_type": "stream",
     "text": [
      "final value z is: 648730858\n"
     ]
    },
    {
     "data": {
      "text/plain": [
       "648730858"
      ]
     },
     "execution_count": 90,
     "metadata": {},
     "output_type": "execute_result"
    }
   ],
   "source": [
    "calculate_z(z1, z2, r)"
   ]
  },
  {
   "cell_type": "markdown",
   "metadata": {},
   "source": [
    "# (Solution:)\n",
    "## Implementation\n",
    "There are many ways to implement this, particularly on a production-grade application. In this lesson, we want you to understand how these principles work and not worry too much about the best possible implementation. Therefore, we implement private multiplication in a simplified (and not very secure) way. "
   ]
  },
  {
   "cell_type": "code",
   "execution_count": 92,
   "metadata": {},
   "outputs": [],
   "source": [
    "def beaver_triple(r):\n",
    "    '''\n",
    "    r = randomness\n",
    "    '''\n",
    "    a = randint(r)\n",
    "    b = randint(r)\n",
    "    c = a * b\n",
    "    \n",
    "    return (a, b, c)"
   ]
  },
  {
   "cell_type": "code",
   "execution_count": 93,
   "metadata": {},
   "outputs": [],
   "source": [
    "# Define secret sharing from previous lesson\n",
    "\n",
    "def n_share(s, r, n):\n",
    "    '''\n",
    "    s = secret\n",
    "    r = randomness\n",
    "    n = number of nodes, workers or participants\n",
    "    '''\n",
    "    share_lst = list()\n",
    "\n",
    "    for i in range(n - 1):\n",
    "        share_lst.append(randint(0,r))\n",
    "\n",
    "    final_share = r - (sum(share_lst) % r) + s\n",
    "\n",
    "    share_lst.append(final_share)\n",
    "\n",
    "    return tuple(share_lst)"
   ]
  },
  {
   "cell_type": "code",
   "execution_count": 94,
   "metadata": {},
   "outputs": [],
   "source": [
    "# also reusing the decryption function\n",
    "def decrypt(shares, r):\n",
    "    '''\n",
    "    shares = iterable made of additive secret shares\n",
    "    r = randomness\n",
    "    '''\n",
    "    return sum(shares) % r"
   ]
  },
  {
   "cell_type": "code",
   "execution_count": 95,
   "metadata": {},
   "outputs": [],
   "source": [
    "# Import numpy randomness function\n",
    "from numpy.random import randint\n",
    "\n",
    "# Small Q in favour of computation speed\n",
    "Q = 64601"
   ]
  },
  {
   "cell_type": "markdown",
   "metadata": {},
   "source": [
    "We will use lists and dictionaries for simplicity."
   ]
  },
  {
   "cell_type": "code",
   "execution_count": 96,
   "metadata": {},
   "outputs": [
    {
     "data": {
      "text/plain": [
       "[{'name': 'alice'}, {'name': 'bob'}]"
      ]
     },
     "execution_count": 96,
     "metadata": {},
     "output_type": "execute_result"
    }
   ],
   "source": [
    "# 0 - Create a dictionary per party\n",
    "\n",
    "alice = dict(name=\"alice\")\n",
    "bob = dict(name=\"bob\")\n",
    "\n",
    "# and put them in a list\n",
    "parties = [alice, bob]\n",
    "parties"
   ]
  },
  {
   "cell_type": "markdown",
   "metadata": {},
   "source": [
    "Enter integers to multiply together"
   ]
  },
  {
   "cell_type": "code",
   "execution_count": 97,
   "metadata": {},
   "outputs": [
    {
     "name": "stdout",
     "output_type": "stream",
     "text": [
      "x is: 100\n",
      "y is: 200\n"
     ]
    }
   ],
   "source": [
    "x = int(input(\"Alice's input is: \"))\n",
    "y = int(input(\"Bob's input is: \"))\n",
    "print(f'x is: {x}')\n",
    "print(f'y is: {y}')"
   ]
  },
  {
   "cell_type": "code",
   "execution_count": 98,
   "metadata": {},
   "outputs": [
    {
     "name": "stdout",
     "output_type": "stream",
     "text": [
      "{'name': 'alice', 'x': 7492, 'y': 37372}\n",
      "{'name': 'bob', 'x': 57209, 'y': 27429}\n"
     ]
    }
   ],
   "source": [
    "# 1 - Secret share the inputs\n",
    "\n",
    "x1, x2 = n_share(x,Q,len(parties))         \n",
    "\n",
    "xsecrets = [ x1, x2 ] \n",
    "\n",
    "y1, y2 = n_share(y,Q,len(parties))         \n",
    "\n",
    "ysecrets = [ y1, y2 ] \n",
    "\n",
    "for i, party in enumerate(parties):   \n",
    "    party[\"x\"] = xsecrets[i]\n",
    "    party[\"y\"] = ysecrets[i]\n",
    "    \n",
    "    print(party)"
   ]
  },
  {
   "cell_type": "code",
   "execution_count": 61,
   "metadata": {},
   "outputs": [
    {
     "name": "stdout",
     "output_type": "stream",
     "text": [
      "Triple (a,b,c) =  (16591, 41203, 683598973)\n"
     ]
    }
   ],
   "source": [
    "# 2 - Generate Beaver Triple\n",
    "\n",
    "# Compute triples using Q\n",
    "a,b,c = beaver_triple(Q)\n",
    "\n",
    "triple = (a,b,c)\n",
    "print(\"Triple (a,b,c) = \",triple)"
   ]
  },
  {
   "cell_type": "code",
   "execution_count": 99,
   "metadata": {},
   "outputs": [
    {
     "name": "stdout",
     "output_type": "stream",
     "text": [
      "a = 16591 split into (42043, 39149) \n",
      "\n",
      "b = 41203 split into (59719, 46085) \n",
      "\n",
      "c = 683598973 split into (60673, 683602901) \n",
      "\n"
     ]
    }
   ],
   "source": [
    "# 3 - Secret Share triple\n",
    "for count, elem in enumerate(triple):\n",
    "    # Additive secret share \n",
    "    shares = n_share(elem,Q,len(parties))         \n",
    "    # a\n",
    "    if count == 0:\n",
    "        lit = \"a\"        \n",
    "    # b\n",
    "    elif count == 1:       \n",
    "        lit = \"b\"\n",
    "    # c\n",
    "    else:\n",
    "        lit = \"c\"\n",
    "        \n",
    "    print(lit,\"=\",elem,\"split into\", shares,\"\\n\")        \n",
    "        \n",
    "    for party, share in enumerate(shares):\n",
    "        parties[party][lit] = share"
   ]
  },
  {
   "cell_type": "markdown",
   "metadata": {},
   "source": [
    "In this example, we can check that the triples have been split into shares among the parties correctly"
   ]
  },
  {
   "cell_type": "code",
   "execution_count": 100,
   "metadata": {},
   "outputs": [
    {
     "data": {
      "text/plain": [
       "{'name': 'alice', 'x': 7492, 'y': 37372, 'a': 42043, 'b': 59719, 'c': 60673}"
      ]
     },
     "execution_count": 100,
     "metadata": {},
     "output_type": "execute_result"
    }
   ],
   "source": [
    "alice"
   ]
  },
  {
   "cell_type": "code",
   "execution_count": 101,
   "metadata": {},
   "outputs": [
    {
     "data": {
      "text/plain": [
       "{'name': 'bob', 'x': 57209, 'y': 27429, 'a': 39149, 'b': 46085, 'c': 683602901}"
      ]
     },
     "execution_count": 101,
     "metadata": {},
     "output_type": "execute_result"
    }
   ],
   "source": [
    "bob"
   ]
  },
  {
   "cell_type": "code",
   "execution_count": 102,
   "metadata": {},
   "outputs": [
    {
     "name": "stdout",
     "output_type": "stream",
     "text": [
      "alice computes \n",
      "[x-a] = 7492 - 42043 = -34551\n",
      "alice computes \n",
      "[y-b] = 37372 - 59719 = -22347\n",
      "bob computes \n",
      "[x-a] = 57209 - 39149 = 18060\n",
      "bob computes \n",
      "[y-b] = 27429 - 46085 = -18656\n"
     ]
    }
   ],
   "source": [
    "# Each party \n",
    "for party in parties:    \n",
    "    # computes x - a  \n",
    "    party[\"x-a\"] = party[\"x\"] - party[\"a\"]\n",
    "    print(f'{party[\"name\"]} computes \\n[x-a] = {party[\"x\"]} - {party[\"a\"]} = {party[\"x-a\"]}')\n",
    "    # and y - b\n",
    "    party[\"y-b\"] = party[\"y\"] - party[\"b\"]\n",
    "    print(f'{party[\"name\"]} computes \\n[y-b] = {party[\"y\"]} - {party[\"b\"]} = {party[\"y-b\"]}')"
   ]
  },
  {
   "cell_type": "code",
   "execution_count": 103,
   "metadata": {},
   "outputs": [
    {
     "data": {
      "text/plain": [
       "{'name': 'alice',\n",
       " 'x': 7492,\n",
       " 'y': 37372,\n",
       " 'a': 42043,\n",
       " 'b': 59719,\n",
       " 'c': 60673,\n",
       " 'x-a': -34551,\n",
       " 'y-b': -22347}"
      ]
     },
     "execution_count": 103,
     "metadata": {},
     "output_type": "execute_result"
    }
   ],
   "source": [
    "alice"
   ]
  },
  {
   "cell_type": "code",
   "execution_count": 104,
   "metadata": {},
   "outputs": [
    {
     "data": {
      "text/plain": [
       "{'name': 'bob',\n",
       " 'x': 57209,\n",
       " 'y': 27429,\n",
       " 'a': 39149,\n",
       " 'b': 46085,\n",
       " 'c': 683602901,\n",
       " 'x-a': 18060,\n",
       " 'y-b': -18656}"
      ]
     },
     "execution_count": 104,
     "metadata": {},
     "output_type": "execute_result"
    }
   ],
   "source": [
    "bob"
   ]
  },
  {
   "cell_type": "code",
   "execution_count": 107,
   "metadata": {},
   "outputs": [
    {
     "name": "stdout",
     "output_type": "stream",
     "text": [
      "delta = -16491\n",
      "epsilon = -41003\n"
     ]
    }
   ],
   "source": [
    "# revealing delta\n",
    "delta = alice[\"x-a\"] + bob[\"x-a\"]\n",
    "print(\"delta =\",delta)\n",
    "\n",
    "# and epsilon\n",
    "epsilon = alice[\"y-b\"] + bob[\"y-b\"]\n",
    "print(\"epsilon =\",epsilon)"
   ]
  },
  {
   "cell_type": "code",
   "execution_count": 108,
   "metadata": {},
   "outputs": [
    {
     "name": "stdout",
     "output_type": "stream",
     "text": [
      "z_alice = -2708654485\n",
      "z_bob = -1681611281\n",
      "The last party (bob) adds (delta)(epsilon) \n",
      "[z] = -1005430808\n"
     ]
    }
   ],
   "source": [
    "# and all parties compute using the reconstructed triples and the newly generated delta and epsilon variables\n",
    "for i, party in enumerate(parties):\n",
    "    party[\"z\"] = party[\"c\"] + delta * party[\"b\"] + party[\"a\"] * epsilon\n",
    "    print(f'z_{party[\"name\"]} = {party[\"z\"]}')\n",
    "    \n",
    "    if i == len(parties)-1:\n",
    "        party[\"z\"] += delta * epsilon\n",
    "        print(f'The last party ({party[\"name\"]}) adds (delta)(epsilon) \\n[z] = { party[\"z\"] }')"
   ]
  },
  {
   "cell_type": "markdown",
   "metadata": {},
   "source": [
    "Since we introduced randomness to our parties' inputs using Q, we use the additive secret sharing decrypt function to remove that randomness. "
   ]
  },
  {
   "cell_type": "code",
   "execution_count": 109,
   "metadata": {},
   "outputs": [
    {
     "data": {
      "text/plain": [
       "20000"
      ]
     },
     "execution_count": 109,
     "metadata": {},
     "output_type": "execute_result"
    }
   ],
   "source": [
    "decrypt( [ alice[\"z\"], bob[\"z\"] ], Q )"
   ]
  },
  {
   "cell_type": "markdown",
   "metadata": {},
   "source": [
    "Check if the result is correct"
   ]
  },
  {
   "cell_type": "code",
   "execution_count": 110,
   "metadata": {},
   "outputs": [
    {
     "data": {
      "text/plain": [
       "True"
      ]
     },
     "execution_count": 110,
     "metadata": {},
     "output_type": "execute_result"
    }
   ],
   "source": [
    "decrypt( [ alice[\"z\"], bob[\"z\"] ], Q ) == x*y"
   ]
  },
  {
   "cell_type": "markdown",
   "metadata": {},
   "source": [
    "## Working with Matrices\n",
    "\n",
    "Now that we know how to secret share, add and multiply integers privately, which is basic for deep learning networks we should learn how to do the same work with matrices. More importantly, neural networks programmed with [PyTorch](https://pytorch.org/) represent images as tensors. \n",
    "\n",
    "### Additive Secret Sharing\n",
    "\n",
    "Borrowing from the previous lesson, we can use the same logic to secret share matrices by adding a `random_tensor` helper function."
   ]
  },
  {
   "cell_type": "code",
   "execution_count": 1,
   "metadata": {},
   "outputs": [],
   "source": [
    "# We use the secrets module to generate strong random numbers\n",
    "from secrets import randbelow\n",
    "\n",
    "# We use NumPy for math operations\n",
    "import numpy as np\n",
    "\n",
    "# and PyTorch to represent our data using tensors\n",
    "import torch\n",
    "\n",
    "Q = 64601\n",
    "\n",
    "def random_tensor(shape,r):\n",
    "    '''\n",
    "    shape = desired tensor shape\n",
    "    r = randomness\n",
    "    '''\n",
    "    values = [ randbelow(r) for _ in range(np.prod(shape)) ]  # make a list of random numbers\n",
    "    return torch.tensor(values, dtype=torch.long).reshape(shape)"
   ]
  },
  {
   "cell_type": "code",
   "execution_count": 2,
   "metadata": {},
   "outputs": [],
   "source": [
    "# Modifying secret sharing from previous lesson to generate random matrices\n",
    "def matrix_share(m, r, n):\n",
    "    '''\n",
    "    m = matrix secret\n",
    "    r = randomness\n",
    "    n = number of nodes, workers or participants\n",
    "    '''\n",
    "    share_lst = list()\n",
    "\n",
    "    for i in range(n - 1):\n",
    "        # add the random_tensor helper function\n",
    "        share_lst.append(random_tensor(m.shape,r))\n",
    "\n",
    "    final_share = r - (sum(share_lst) % r) + m\n",
    "\n",
    "    share_lst.append(final_share)\n",
    "    \n",
    "    # and return a tuple of random tensors    \n",
    "    return tuple(share_lst)\n",
    "\n",
    "# also reusing the decryption function\n",
    "def decrypt(shares, r):\n",
    "    '''\n",
    "    shares = iterable made of additive secret shares\n",
    "    r = randomness\n",
    "    '''\n",
    "    return sum(shares) % r"
   ]
  },
  {
   "cell_type": "markdown",
   "metadata": {},
   "source": [
    "Next, we do a quick test to verify our secret sharing function works"
   ]
  },
  {
   "cell_type": "code",
   "execution_count": 3,
   "metadata": {},
   "outputs": [
    {
     "data": {
      "text/plain": [
       "(tensor([[38568, 58873, 38732],\n",
       "         [22090, 26884, 56995]]),\n",
       " tensor([[26034,  5730, 25872],\n",
       "         [42514, 37719,  7607]]))"
      ]
     },
     "execution_count": 3,
     "metadata": {},
     "output_type": "execute_result"
    }
   ],
   "source": [
    "# We make an arbitrary tensor of 2x3 shape\n",
    "test_tensor = torch.tensor([[1, 2, 3],\n",
    "                            [3, 2, 1]])\n",
    "\n",
    "# Make secret shares from our test tensor\n",
    "n = 2\n",
    "matrix_shares = matrix_share( test_tensor , Q, n)\n",
    "matrix_shares"
   ]
  },
  {
   "cell_type": "code",
   "execution_count": 4,
   "metadata": {},
   "outputs": [
    {
     "data": {
      "text/plain": [
       "tensor([[1, 2, 3],\n",
       "        [3, 2, 1]])"
      ]
     },
     "execution_count": 4,
     "metadata": {},
     "output_type": "execute_result"
    }
   ],
   "source": [
    "# Can we decrypt the shares using our original function?\n",
    "decrypt(matrix_shares, Q)"
   ]
  },
  {
   "cell_type": "markdown",
   "metadata": {},
   "source": [
    "### Matrix Multiplication Refresher\n",
    "\n",
    "For matrix multiplication, we need the columns of our first matrix to be the same as the rows in our second matrix."
   ]
  },
  {
   "cell_type": "code",
   "execution_count": 5,
   "metadata": {},
   "outputs": [
    {
     "name": "stdout",
     "output_type": "stream",
     "text": [
      "torch.Size([4, 3]) torch.Size([3, 2])\n"
     ]
    }
   ],
   "source": [
    "x = torch.tensor([   # 4 x 3\n",
    "        [1, 1, 1], \n",
    "        [2, 2, 2],\n",
    "        [3, 3, 3],\n",
    "        [4, 4, 4]\n",
    "    ], dtype=torch.long)\n",
    "\n",
    "y = torch.tensor([   # 3 x 2\n",
    "        [0, 1], \n",
    "        [2, 3],\n",
    "        [0, 2]  \n",
    "    ], dtype=torch.long)\n",
    "\n",
    "print(x.shape, y.shape)"
   ]
  },
  {
   "cell_type": "markdown",
   "metadata": {},
   "source": [
    "In regular PyTorch, we can use the `torch.matmul` operation to do n-dimensional matrix multiplication, `x @ y` in short."
   ]
  },
  {
   "cell_type": "code",
   "execution_count": 6,
   "metadata": {},
   "outputs": [
    {
     "data": {
      "text/plain": [
       "tensor([[ 2,  6],\n",
       "        [ 4, 12],\n",
       "        [ 6, 18],\n",
       "        [ 8, 24]])"
      ]
     },
     "execution_count": 6,
     "metadata": {},
     "output_type": "execute_result"
    }
   ],
   "source": [
    "torch.matmul(x, y)"
   ]
  },
  {
   "cell_type": "markdown",
   "metadata": {},
   "source": [
    "## Adapt your code to MatMul\n",
    "Now that you know how to multiply and secret share matrices with PyTorch, try implementing private multiplication on your own."
   ]
  },
  {
   "cell_type": "code",
   "execution_count": 7,
   "metadata": {},
   "outputs": [],
   "source": [
    "def matrix_triplets(x: torch.Tensor, y: torch.Tensor, r):\n",
    "    \"\"\"\n",
    "    r: the random number\n",
    "    \"\"\"\n",
    "    a = random_tensor(x.shape, r)\n",
    "    b = random_tensor(y.shape, r)\n",
    "    c = torch.matmul(a, b)\n",
    "    return (a,b,c)\n",
    "\n",
    "(a,b,c) = matrix_triplets(x, y, Q)"
   ]
  },
  {
   "cell_type": "code",
   "execution_count": 8,
   "metadata": {},
   "outputs": [],
   "source": [
    "alice = dict(name=\"alice\")\n",
    "bob = dict(name=\"bob\")\n",
    "parties = [alice, bob]"
   ]
  },
  {
   "cell_type": "markdown",
   "metadata": {},
   "source": [
    "Secret share the input matrices and the matrix triplets"
   ]
  },
  {
   "cell_type": "code",
   "execution_count": 139,
   "metadata": {},
   "outputs": [],
   "source": [
    "names = ['x', 'y', 'a', 'b', 'c']\n",
    "matrices = [x, y, a, b, c]\n",
    "\n",
    "for name, matrix in zip(names, matrices):\n",
    "    alice[name], bob[name] = matrix_share(matrix, Q, n)"
   ]
  },
  {
   "cell_type": "code",
   "execution_count": 140,
   "metadata": {},
   "outputs": [
    {
     "data": {
      "text/plain": [
       "{'name': 'alice',\n",
       " 'x': tensor([[ 5173, 53734, 55379],\n",
       "         [11504, 51162, 24904],\n",
       "         [31942, 55078, 64144],\n",
       "         [60427, 37372, 39916]]),\n",
       " 'y': tensor([[63082, 28926],\n",
       "         [56239, 60274],\n",
       "         [63892, 15427]]),\n",
       " 'a': tensor([[31896, 20683, 58625],\n",
       "         [10757,  8550, 40993],\n",
       "         [33861, 62438, 32756],\n",
       "         [56059, 56462, 15128]]),\n",
       " 'b': tensor([[35906,  5951],\n",
       "         [25110, 29840],\n",
       "         [27415, 15526]]),\n",
       " 'c': tensor([[26614, 48081],\n",
       "         [32073,  7926],\n",
       "         [ 9600, 30138],\n",
       "         [11235, 41072]])}"
      ]
     },
     "execution_count": 140,
     "metadata": {},
     "output_type": "execute_result"
    }
   ],
   "source": [
    "alice"
   ]
  },
  {
   "cell_type": "code",
   "execution_count": 141,
   "metadata": {},
   "outputs": [
    {
     "data": {
      "text/plain": [
       "{'name': 'bob',\n",
       " 'x': tensor([[59429, 10868,  9223],\n",
       "         [53099, 13441, 39699],\n",
       "         [32662,  9526,   460],\n",
       "         [ 4178, 27233, 24689]]),\n",
       " 'y': tensor([[ 1519, 35676],\n",
       "         [ 8364,  4330],\n",
       "         [  709, 49176]]),\n",
       " 'a': tensor([[ 60017, 103652,  13748],\n",
       "         [104156, 100610,  35047],\n",
       "         [ 48946,  37263,  42363],\n",
       "         [ 42975,  37796,  84070]]),\n",
       " 'b': tensor([[ 74954, 122673],\n",
       "         [ 42327,  92583],\n",
       "         [100060,  96264]]),\n",
       " 'c': tensor([[1921526147, 5569304952],\n",
       "         [3173000346, 6337467320],\n",
       "         [1603098687, 3691523303],\n",
       "         [3852248543, 5551952375]])}"
      ]
     },
     "execution_count": 141,
     "metadata": {},
     "output_type": "execute_result"
    }
   ],
   "source": [
    "bob"
   ]
  },
  {
   "cell_type": "markdown",
   "metadata": {},
   "source": [
    "check if everything works"
   ]
  },
  {
   "cell_type": "code",
   "execution_count": 142,
   "metadata": {},
   "outputs": [
    {
     "data": {
      "text/plain": [
       "tensor([[1, 1, 1],\n",
       "        [2, 2, 2],\n",
       "        [3, 3, 3],\n",
       "        [4, 4, 4]])"
      ]
     },
     "execution_count": 142,
     "metadata": {},
     "output_type": "execute_result"
    }
   ],
   "source": [
    "decrypt((alice['x'], bob['x']), Q)"
   ]
  },
  {
   "cell_type": "code",
   "execution_count": 143,
   "metadata": {},
   "outputs": [
    {
     "data": {
      "text/plain": [
       "tensor([[0, 1],\n",
       "        [2, 3],\n",
       "        [0, 2]])"
      ]
     },
     "execution_count": 143,
     "metadata": {},
     "output_type": "execute_result"
    }
   ],
   "source": [
    "decrypt((alice['y'], bob['y']), Q)"
   ]
  },
  {
   "cell_type": "markdown",
   "metadata": {},
   "source": [
    "# (Solution)\n",
    "\n",
    "## Private Matrix Multiplication\n",
    "### Matrix Beaver Triples\n",
    "Adapting Beaver's principles to matrices, we can implement private matrix multiplication this way.\n",
    "\n",
    "Following the same logic as before, we can make `a` and `b` random tensors and `matmul` them together to make `c = ab`"
   ]
  },
  {
   "cell_type": "code",
   "execution_count": null,
   "metadata": {},
   "outputs": [],
   "source": [
    "def matrix_triple(x: torch.LongTensor, y: torch.LongTensor, r: int):\n",
    "    '''\n",
    "    x = x tensor\n",
    "    y = y tensor\n",
    "    r = randomness\n",
    "    '''\n",
    "    # Generate random tensors with the same shape as our inputs\n",
    "    a = random_tensor(x.shape,r)\n",
    "    b = random_tensor(y.shape,r)\n",
    "    \n",
    "    # And we matrix multiply them to make c = ab\n",
    "    c = torch.matmul(a,b)\n",
    "    \n",
    "    return a, b, c"
   ]
  },
  {
   "cell_type": "code",
   "execution_count": null,
   "metadata": {},
   "outputs": [],
   "source": [
    "matrix_triple(x, y, Q)"
   ]
  },
  {
   "cell_type": "code",
   "execution_count": null,
   "metadata": {},
   "outputs": [],
   "source": [
    "# Define 2 parties that will virtually hold the shares\n",
    "parties = [\"alice\", \"bob\"]"
   ]
  },
  {
   "cell_type": "code",
   "execution_count": null,
   "metadata": {},
   "outputs": [],
   "source": [
    "# and we view their shapes\n",
    "print(f'Matrix 1 Shape: {x.shape} \\nMatrix 2 Shape: {y.shape}')"
   ]
  },
  {
   "cell_type": "markdown",
   "metadata": {},
   "source": [
    "Then we secret share `x` and `y` between our two parties of Alice and Bob"
   ]
  },
  {
   "cell_type": "code",
   "execution_count": null,
   "metadata": {},
   "outputs": [],
   "source": [
    "# 1 - Secret share inputs\n",
    "\n",
    "# secret share matrix x\n",
    "x_sh = matrix_share(x, Q, len(parties))\n",
    "\n",
    "# secret share matrix y\n",
    "y_sh = matrix_share(y, Q, len(parties))"
   ]
  },
  {
   "cell_type": "code",
   "execution_count": null,
   "metadata": {},
   "outputs": [],
   "source": [
    "# 2 - Generate Matrix Beaver Triple\n",
    "a, b, c = matrix_triple(x, y, Q)\n",
    "\n",
    "matrix_triple = (a, b, c)\n",
    "print(\"Triple (a,b,c) = \\n\", matrix_triple)"
   ]
  },
  {
   "cell_type": "code",
   "execution_count": null,
   "metadata": {},
   "outputs": [],
   "source": [
    "# 3 - Secret Share triples\n",
    "a_sh = matrix_share(a, Q, len(parties))\n",
    "b_sh = matrix_share(b, Q, len(parties))\n",
    "c_sh = matrix_share(c, Q, len(parties))"
   ]
  },
  {
   "cell_type": "code",
   "execution_count": null,
   "metadata": {},
   "outputs": [],
   "source": [
    "def sub(x, y):\n",
    "    \"\"\"Emulates x - y for shared values\"\"\"\n",
    "    \n",
    "    n_party = len(x)\n",
    "    z = [\n",
    "        x[party] - y[party]\n",
    "        for party in range(n_party)\n",
    "    ]\n",
    "        \n",
    "    return z"
   ]
  },
  {
   "cell_type": "code",
   "execution_count": null,
   "metadata": {},
   "outputs": [],
   "source": [
    "epsilon = decrypt(sub(x_sh, a_sh), Q)\n",
    "delta = decrypt(sub(y_sh, b_sh), Q)\n",
    "\n",
    "print(\"epsilon =\",epsilon)\n",
    "print(\"delta =\",delta)"
   ]
  },
  {
   "cell_type": "code",
   "execution_count": null,
   "metadata": {},
   "outputs": [],
   "source": [
    "z_sh = [0] * len(parties) # initialize the shares\n",
    "for party in range(len(parties)):\n",
    "    \n",
    "    z_sh[party] = c_sh[party] + epsilon @ b_sh[party] + a_sh[party] @ delta \n",
    "    \n",
    "    if party == 0: # only add the public value once\n",
    "        z_sh[party] += epsilon @ delta"
   ]
  },
  {
   "cell_type": "code",
   "execution_count": null,
   "metadata": {},
   "outputs": [],
   "source": [
    "decrypt(z_sh, Q)"
   ]
  },
  {
   "cell_type": "code",
   "execution_count": null,
   "metadata": {},
   "outputs": [],
   "source": [
    "# Expected:\n",
    "x @ y"
   ]
  },
  {
   "cell_type": "markdown",
   "metadata": {},
   "source": [
    "## Private Multiplication with PySyft\n",
    "As we mentioned in the intro video, Beaver Triples is the backbone of the [SPDZ protocol](https://link.springer.com/chapter/10.1007%2F978-3-642-32009-5_38) which is mostly implemented in [PySyft](https://github.com/OpenMined/PySyft) already. So, we can do private multiplication without having to implement the math from scratch."
   ]
  },
  {
   "cell_type": "code",
   "execution_count": null,
   "metadata": {},
   "outputs": [],
   "source": [
    "import torch\n",
    "import syft as sy\n",
    "hook = sy.TorchHook(torch)"
   ]
  },
  {
   "cell_type": "code",
   "execution_count": null,
   "metadata": {},
   "outputs": [],
   "source": [
    "alice = sy.VirtualWorker(hook, id=\"alice\")\n",
    "bob = sy.VirtualWorker(hook, id=\"bob\")\n",
    "charlie = sy.VirtualWorker(hook, id=\"charlie\")\n",
    "secure_worker = sy.VirtualWorker(hook, \"secure_worker\")"
   ]
  },
  {
   "cell_type": "markdown",
   "metadata": {},
   "source": [
    "### Private Integer Multiplication with PySyft"
   ]
  },
  {
   "cell_type": "code",
   "execution_count": null,
   "metadata": {},
   "outputs": [],
   "source": [
    "x = torch.tensor([6])\n",
    "y = torch.tensor([8])\n",
    "\n",
    "# And we additive share with our parties\n",
    "x = x.share(alice, bob, charlie, crypto_provider=secure_worker)\n",
    "y = y.share(alice, bob, charlie, crypto_provider=secure_worker)"
   ]
  },
  {
   "cell_type": "code",
   "execution_count": null,
   "metadata": {},
   "outputs": [],
   "source": [
    "# Compute z = x * y\n",
    "scalar_mul = x * y\n",
    "scalar_mul"
   ]
  },
  {
   "cell_type": "markdown",
   "metadata": {},
   "source": [
    "If we try to look at the result, we can see that our inputs have been scrambled and replaced with pointers and random numbers, just like above."
   ]
  },
  {
   "cell_type": "code",
   "execution_count": null,
   "metadata": {},
   "outputs": [],
   "source": [
    "decrypted_scalar_mul = scalar_mul.get()\n",
    "decrypted_scalar_mul.item()"
   ]
  },
  {
   "cell_type": "markdown",
   "metadata": {},
   "source": [
    "It works! It may seem like we still need to write a lot of lines but consider that we are simulating four-workers environment where all inputs are hidden. \n",
    "\n",
    "### Private Matrix Multiplication with PySyft\n",
    "\n",
    "Now, lets try something more complicated, like tensor(matrix) multiplication."
   ]
  },
  {
   "cell_type": "code",
   "execution_count": null,
   "metadata": {},
   "outputs": [],
   "source": [
    "# feel free to play with these values\n",
    "matrix1 = torch.tensor(\n",
    "    [\n",
    "        # 3 x 3\n",
    "        [ 1,   1,  1],\n",
    "        [ 1,   1,  1],\n",
    "        [ 1,   1,  1]\n",
    "    ], dtype=torch.long)\n",
    "\n",
    "matrix2 = torch.tensor(\n",
    "    [\n",
    "        # 3 x 3\n",
    "        [ 0,  -1,  0],\n",
    "        [-1,   5, -1],\n",
    "        [ 0,  -1,  0]\n",
    "    ], dtype=torch.long)\n"
   ]
  },
  {
   "cell_type": "code",
   "execution_count": null,
   "metadata": {},
   "outputs": [],
   "source": [
    "matrix1 = matrix1.share(alice, bob, charlie, crypto_provider=secure_worker)\n",
    "matrix2 = matrix2.share(alice, bob, charlie, crypto_provider=secure_worker)"
   ]
  },
  {
   "cell_type": "code",
   "execution_count": null,
   "metadata": {},
   "outputs": [],
   "source": [
    "tensor_mul = matrix1 * matrix2\n",
    "tensor_mul"
   ]
  },
  {
   "cell_type": "markdown",
   "metadata": {},
   "source": [
    "So far so good..."
   ]
  },
  {
   "cell_type": "code",
   "execution_count": null,
   "metadata": {},
   "outputs": [],
   "source": [
    "decrypted_tensor_mul = tensor_mul.get()\n",
    "decrypted_tensor_mul"
   ]
  },
  {
   "cell_type": "markdown",
   "metadata": {},
   "source": [
    "It also works! Since it works for tensor multiplication it will also work for convolution operations."
   ]
  },
  {
   "cell_type": "markdown",
   "metadata": {},
   "source": [
    "All these operations, like we established on the previous lesson, work over a finite field of integers, but in neural networks and in real life, we use floats! FixedPrecision encoding is how we **fix** that problem, and our next lesson."
   ]
  }
 ],
 "metadata": {
  "kernelspec": {
   "display_name": "Python 3",
   "language": "python",
   "name": "python3"
  },
  "language_info": {
   "codemirror_mode": {
    "name": "ipython",
    "version": 3
   },
   "file_extension": ".py",
   "mimetype": "text/x-python",
   "name": "python",
   "nbconvert_exporter": "python",
   "pygments_lexer": "ipython3",
   "version": "3.8.12"
  }
 },
 "nbformat": 4,
 "nbformat_minor": 4
}
